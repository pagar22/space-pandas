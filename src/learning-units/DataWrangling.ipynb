{
 "cells": [
  {
   "cell_type": "markdown",
   "id": "a004aac2",
   "metadata": {},
   "source": [
    "# Data Wrangling: Running Results\n",
    "\n",
    "Analyze results of [https://valentinslauf.de/Ergebnisse-Fotos/](https://valentinslauf.de/Ergebnisse-Fotos/) "
   ]
  },
  {
   "attachments": {},
   "cell_type": "markdown",
   "id": "6414d1d4",
   "metadata": {},
   "source": [
    "## Get Data -> Clean Data -> Explore -> Statistics -> ML"
   ]
  },
  {
   "cell_type": "code",
   "execution_count": 112,
   "id": "0b630196",
   "metadata": {},
   "outputs": [],
   "source": [
    "import pandas as pd\n",
    "import numpy as np\n",
    "import seaborn as sns\n",
    "from matplotlib import pyplot as plt"
   ]
  },
  {
   "cell_type": "code",
   "execution_count": 113,
   "id": "1df7671a",
   "metadata": {},
   "outputs": [
    {
     "data": {
      "text/html": [
       "<div>\n",
       "<style scoped>\n",
       "    .dataframe tbody tr th:only-of-type {\n",
       "        vertical-align: middle;\n",
       "    }\n",
       "\n",
       "    .dataframe tbody tr th {\n",
       "        vertical-align: top;\n",
       "    }\n",
       "\n",
       "    .dataframe thead th {\n",
       "        text-align: right;\n",
       "    }\n",
       "</style>\n",
       "<table border=\"1\" class=\"dataframe\">\n",
       "  <thead>\n",
       "    <tr style=\"text-align: right;\">\n",
       "      <th></th>\n",
       "      <th>Stnr</th>\n",
       "      <th>Paarname</th>\n",
       "      <th>TN1</th>\n",
       "      <th>TN2</th>\n",
       "      <th>Ak</th>\n",
       "      <th>Platz AK</th>\n",
       "      <th>Endzeit</th>\n",
       "      <th>Rückstand</th>\n",
       "    </tr>\n",
       "    <tr>\n",
       "      <th>Gesamt</th>\n",
       "      <th></th>\n",
       "      <th></th>\n",
       "      <th></th>\n",
       "      <th></th>\n",
       "      <th></th>\n",
       "      <th></th>\n",
       "      <th></th>\n",
       "      <th></th>\n",
       "    </tr>\n",
       "  </thead>\n",
       "  <tbody>\n",
       "    <tr>\n",
       "      <th>1</th>\n",
       "      <td>86.0</td>\n",
       "      <td>Je t'aime</td>\n",
       "      <td>Eric</td>\n",
       "      <td>Steven</td>\n",
       "      <td>Herren</td>\n",
       "      <td>1.0</td>\n",
       "      <td>0:34:32</td>\n",
       "      <td>NaN</td>\n",
       "    </tr>\n",
       "    <tr>\n",
       "      <th>2</th>\n",
       "      <td>36.0</td>\n",
       "      <td>Kaffeeklatsch</td>\n",
       "      <td>Karen</td>\n",
       "      <td>Patrick</td>\n",
       "      <td>mixed</td>\n",
       "      <td>1.0</td>\n",
       "      <td>0:40:58</td>\n",
       "      <td>0:06:26</td>\n",
       "    </tr>\n",
       "    <tr>\n",
       "      <th>3</th>\n",
       "      <td>63.0</td>\n",
       "      <td>Stralau Runners</td>\n",
       "      <td>Jonathan</td>\n",
       "      <td>Mark</td>\n",
       "      <td>Herren</td>\n",
       "      <td>2.0</td>\n",
       "      <td>0:41:26</td>\n",
       "      <td>0:06:54</td>\n",
       "    </tr>\n",
       "    <tr>\n",
       "      <th>4</th>\n",
       "      <td>5.0</td>\n",
       "      <td>Spuartzgis</td>\n",
       "      <td>Ryan</td>\n",
       "      <td>Timothy</td>\n",
       "      <td>mixed</td>\n",
       "      <td>2.0</td>\n",
       "      <td>0:42:21</td>\n",
       "      <td>0:07:49</td>\n",
       "    </tr>\n",
       "    <tr>\n",
       "      <th>5</th>\n",
       "      <td>117.0</td>\n",
       "      <td>Doodle Runners</td>\n",
       "      <td>Anthony</td>\n",
       "      <td>Vanessa</td>\n",
       "      <td>mixed</td>\n",
       "      <td>3.0</td>\n",
       "      <td>0:42:31</td>\n",
       "      <td>0:07:59</td>\n",
       "    </tr>\n",
       "    <tr>\n",
       "      <th>...</th>\n",
       "      <td>...</td>\n",
       "      <td>...</td>\n",
       "      <td>...</td>\n",
       "      <td>...</td>\n",
       "      <td>...</td>\n",
       "      <td>...</td>\n",
       "      <td>...</td>\n",
       "      <td>...</td>\n",
       "    </tr>\n",
       "    <tr>\n",
       "      <th>115</th>\n",
       "      <td>108.0</td>\n",
       "      <td>Long Distance Lovers</td>\n",
       "      <td>Raymond</td>\n",
       "      <td>Brent</td>\n",
       "      <td>Damen</td>\n",
       "      <td>14.0</td>\n",
       "      <td>1:27:16</td>\n",
       "      <td>0:52:44</td>\n",
       "    </tr>\n",
       "    <tr>\n",
       "      <th>116</th>\n",
       "      <td>41.0</td>\n",
       "      <td>Loveparade</td>\n",
       "      <td>Johnny</td>\n",
       "      <td>Kenneth</td>\n",
       "      <td>mixed</td>\n",
       "      <td>86.0</td>\n",
       "      <td>1:36:03</td>\n",
       "      <td>1:01:31</td>\n",
       "    </tr>\n",
       "    <tr>\n",
       "      <th>117</th>\n",
       "      <td>145.0</td>\n",
       "      <td>The snookies</td>\n",
       "      <td>Melissa</td>\n",
       "      <td>Trevor</td>\n",
       "      <td>mixed</td>\n",
       "      <td>87.0</td>\n",
       "      <td>1:43:53</td>\n",
       "      <td>1:09:21</td>\n",
       "    </tr>\n",
       "    <tr>\n",
       "      <th>DISQ</th>\n",
       "      <td>308.0</td>\n",
       "      <td>???</td>\n",
       "      <td>MCL</td>\n",
       "      <td>NaN</td>\n",
       "      <td>Einzel</td>\n",
       "      <td>NaN</td>\n",
       "      <td>0:36:47</td>\n",
       "      <td>0:02:15</td>\n",
       "    </tr>\n",
       "    <tr>\n",
       "      <th>Zeitnahme &amp; Auswertung durch Berlin-Timing - Internet: www.Berlin-Timing.de</th>\n",
       "      <td>NaN</td>\n",
       "      <td>NaN</td>\n",
       "      <td>NaN</td>\n",
       "      <td>NaN</td>\n",
       "      <td>NaN</td>\n",
       "      <td>NaN</td>\n",
       "      <td>NaN</td>\n",
       "      <td>NaN</td>\n",
       "    </tr>\n",
       "  </tbody>\n",
       "</table>\n",
       "<p>119 rows × 8 columns</p>\n",
       "</div>"
      ],
      "text/plain": [
       "                                                     Stnr  \\\n",
       "Gesamt                                                      \n",
       "1                                                    86.0   \n",
       "2                                                    36.0   \n",
       "3                                                    63.0   \n",
       "4                                                     5.0   \n",
       "5                                                   117.0   \n",
       "...                                                   ...   \n",
       "115                                                 108.0   \n",
       "116                                                  41.0   \n",
       "117                                                 145.0   \n",
       "DISQ                                                308.0   \n",
       "Zeitnahme & Auswertung durch Berlin-Timing - In...    NaN   \n",
       "\n",
       "                                                                Paarname  \\\n",
       "Gesamt                                                                     \n",
       "1                                                              Je t'aime   \n",
       "2                                                          Kaffeeklatsch   \n",
       "3                                                        Stralau Runners   \n",
       "4                                                             Spuartzgis   \n",
       "5                                                         Doodle Runners   \n",
       "...                                                                  ...   \n",
       "115                                                 Long Distance Lovers   \n",
       "116                                                           Loveparade   \n",
       "117                                                         The snookies   \n",
       "DISQ                                                                 ???   \n",
       "Zeitnahme & Auswertung durch Berlin-Timing - In...                   NaN   \n",
       "\n",
       "                                                         TN1      TN2      Ak  \\\n",
       "Gesamt                                                                          \n",
       "1                                                       Eric   Steven  Herren   \n",
       "2                                                      Karen  Patrick   mixed   \n",
       "3                                                   Jonathan     Mark  Herren   \n",
       "4                                                       Ryan  Timothy   mixed   \n",
       "5                                                    Anthony  Vanessa   mixed   \n",
       "...                                                      ...      ...     ...   \n",
       "115                                                  Raymond    Brent   Damen   \n",
       "116                                                   Johnny  Kenneth   mixed   \n",
       "117                                                  Melissa   Trevor   mixed   \n",
       "DISQ                                                     MCL      NaN  Einzel   \n",
       "Zeitnahme & Auswertung durch Berlin-Timing - In...       NaN      NaN     NaN   \n",
       "\n",
       "                                                    Platz AK  Endzeit  \\\n",
       "Gesamt                                                                  \n",
       "1                                                        1.0  0:34:32   \n",
       "2                                                        1.0  0:40:58   \n",
       "3                                                        2.0  0:41:26   \n",
       "4                                                        2.0  0:42:21   \n",
       "5                                                        3.0  0:42:31   \n",
       "...                                                      ...      ...   \n",
       "115                                                     14.0  1:27:16   \n",
       "116                                                     86.0  1:36:03   \n",
       "117                                                     87.0  1:43:53   \n",
       "DISQ                                                     NaN  0:36:47   \n",
       "Zeitnahme & Auswertung durch Berlin-Timing - In...       NaN      NaN   \n",
       "\n",
       "                                                   Rückstand  \n",
       "Gesamt                                                        \n",
       "1                                                        NaN  \n",
       "2                                                    0:06:26  \n",
       "3                                                    0:06:54  \n",
       "4                                                    0:07:49  \n",
       "5                                                    0:07:59  \n",
       "...                                                      ...  \n",
       "115                                                  0:52:44  \n",
       "116                                                  1:01:31  \n",
       "117                                                  1:09:21  \n",
       "DISQ                                                 0:02:15  \n",
       "Zeitnahme & Auswertung durch Berlin-Timing - In...       NaN  \n",
       "\n",
       "[119 rows x 8 columns]"
      ]
     },
     "execution_count": 113,
     "metadata": {},
     "output_type": "execute_result"
    }
   ],
   "source": [
    "df = pd.read_csv(\n",
    "    \"../../data/results_10km.csv\",\n",
    "    encoding=\"iso8859-1\",\n",
    "    skiprows=2,\n",
    "    sep=\";\",\n",
    "    index_col=0\n",
    ")\n",
    "df"
   ]
  },
  {
   "cell_type": "markdown",
   "id": "ab4b22cd",
   "metadata": {},
   "source": [
    "## Anonymize the data\n",
    "\n",
    "The data contains personal information as defined by the GDPR. All participants have agreed that their data is to be shared. This however does not include redistribution by third parties. Therefore, the data must be anonymized."
   ]
  },
  {
   "cell_type": "code",
   "execution_count": 114,
   "id": "12b2a174",
   "metadata": {},
   "outputs": [],
   "source": [
    "from faker import Faker\n",
    "\n",
    "f = Faker()"
   ]
  },
  {
   "cell_type": "code",
   "execution_count": 115,
   "id": "aa2a90b2",
   "metadata": {},
   "outputs": [
    {
     "data": {
      "text/plain": [
       "Gesamt\n",
       "1                                                                                Robert\n",
       "2                                                                                Miguel\n",
       "3                                                                               Charles\n",
       "4                                                                                 Aaron\n",
       "5                                                                                Andrew\n",
       "                                                                                 ...   \n",
       "115                                                                              Mariah\n",
       "116                                                                                Mary\n",
       "117                                                                            Margaret\n",
       "DISQ                                                                                MCL\n",
       "Zeitnahme & Auswertung durch Berlin-Timing - Internet: www.Berlin-Timing.de         NaN\n",
       "Name: TN1, Length: 119, dtype: object"
      ]
     },
     "execution_count": 115,
     "metadata": {},
     "output_type": "execute_result"
    }
   ],
   "source": [
    "def anonymize(s):\n",
    "    if type(s) == str and s not in [\"\", \"MCL\", \"NaN\", \"Kristian\"]:\n",
    "        return f.first_name()\n",
    "    return s\n",
    "\n",
    "df[\"TN1\"].apply(anonymize)"
   ]
  },
  {
   "cell_type": "markdown",
   "id": "a03f574e",
   "metadata": {},
   "source": [
    "## What is Tidy Data?\n",
    "\n",
    "According to [Tidy Data](https://vita.had.co.nz/papers/tidy-data.pdf) by Hadley Wickham (2014), in tidy data:\n",
    "\n",
    "1. Each variable forms a column.\n",
    "2. Each observation forms a row.\n",
    "3. Each type of observational unit forms a table.\n",
    "\n",
    "(Codds 3rd normal form)\n"
   ]
  },
  {
   "cell_type": "markdown",
   "id": "d49aa48f",
   "metadata": {},
   "source": [
    "## Tidy Data Checklist\n",
    "\n",
    "Don'ts:\n",
    "\n",
    "* Column headers are values, not variable names.\n",
    "* Multiple variables are stored in one column.\n",
    "* Variables are stored in both rows and columns.\n",
    "* Multiple types of observational units are stored in the same table.\n",
    "* A single observational unit is stored in multiple tables.\n"
   ]
  },
  {
   "cell_type": "markdown",
   "id": "1d770135",
   "metadata": {},
   "source": [
    "## Useful phrases to inspect data"
   ]
  },
  {
   "cell_type": "code",
   "execution_count": 116,
   "id": "37e036b1",
   "metadata": {},
   "outputs": [
    {
     "name": "stderr",
     "output_type": "stream",
     "text": [
      "/var/folders/lq/280gf8ld14v161g6ngpdjjnc0000gn/T/ipykernel_48444/593808631.py:5: SettingWithCopyWarning: \n",
      "A value is trying to be set on a copy of a slice from a DataFrame.\n",
      "Try using .loc[row_indexer,col_indexer] = value instead\n",
      "\n",
      "See the caveats in the documentation: https://pandas.pydata.org/pandas-docs/stable/user_guide/indexing.html#returning-a-view-versus-a-copy\n",
      "  df[\"Endzeit\"] = df[\"Endzeit\"].apply(\n"
     ]
    },
    {
     "data": {
      "text/html": [
       "<div>\n",
       "<style scoped>\n",
       "    .dataframe tbody tr th:only-of-type {\n",
       "        vertical-align: middle;\n",
       "    }\n",
       "\n",
       "    .dataframe tbody tr th {\n",
       "        vertical-align: top;\n",
       "    }\n",
       "\n",
       "    .dataframe thead th {\n",
       "        text-align: right;\n",
       "    }\n",
       "</style>\n",
       "<table border=\"1\" class=\"dataframe\">\n",
       "  <thead>\n",
       "    <tr style=\"text-align: right;\">\n",
       "      <th></th>\n",
       "      <th>Stnr</th>\n",
       "      <th>Paarname</th>\n",
       "      <th>TN1</th>\n",
       "      <th>TN2</th>\n",
       "      <th>Ak</th>\n",
       "      <th>Platz AK</th>\n",
       "      <th>Endzeit</th>\n",
       "      <th>Rückstand</th>\n",
       "    </tr>\n",
       "    <tr>\n",
       "      <th>Gesamt</th>\n",
       "      <th></th>\n",
       "      <th></th>\n",
       "      <th></th>\n",
       "      <th></th>\n",
       "      <th></th>\n",
       "      <th></th>\n",
       "      <th></th>\n",
       "      <th></th>\n",
       "    </tr>\n",
       "  </thead>\n",
       "  <tbody>\n",
       "    <tr>\n",
       "      <th>1</th>\n",
       "      <td>86.0</td>\n",
       "      <td>Je t'aime</td>\n",
       "      <td>Eric</td>\n",
       "      <td>Steven</td>\n",
       "      <td>Herren</td>\n",
       "      <td>1.0</td>\n",
       "      <td>0 days 00:34:32</td>\n",
       "      <td>NaN</td>\n",
       "    </tr>\n",
       "    <tr>\n",
       "      <th>2</th>\n",
       "      <td>36.0</td>\n",
       "      <td>Kaffeeklatsch</td>\n",
       "      <td>Karen</td>\n",
       "      <td>Patrick</td>\n",
       "      <td>mixed</td>\n",
       "      <td>1.0</td>\n",
       "      <td>0 days 00:40:58</td>\n",
       "      <td>0:06:26</td>\n",
       "    </tr>\n",
       "    <tr>\n",
       "      <th>3</th>\n",
       "      <td>63.0</td>\n",
       "      <td>Stralau Runners</td>\n",
       "      <td>Jonathan</td>\n",
       "      <td>Mark</td>\n",
       "      <td>Herren</td>\n",
       "      <td>2.0</td>\n",
       "      <td>0 days 00:41:26</td>\n",
       "      <td>0:06:54</td>\n",
       "    </tr>\n",
       "    <tr>\n",
       "      <th>4</th>\n",
       "      <td>5.0</td>\n",
       "      <td>Spuartzgis</td>\n",
       "      <td>Ryan</td>\n",
       "      <td>Timothy</td>\n",
       "      <td>mixed</td>\n",
       "      <td>2.0</td>\n",
       "      <td>0 days 00:42:21</td>\n",
       "      <td>0:07:49</td>\n",
       "    </tr>\n",
       "    <tr>\n",
       "      <th>5</th>\n",
       "      <td>117.0</td>\n",
       "      <td>Doodle Runners</td>\n",
       "      <td>Anthony</td>\n",
       "      <td>Vanessa</td>\n",
       "      <td>mixed</td>\n",
       "      <td>3.0</td>\n",
       "      <td>0 days 00:42:31</td>\n",
       "      <td>0:07:59</td>\n",
       "    </tr>\n",
       "    <tr>\n",
       "      <th>...</th>\n",
       "      <td>...</td>\n",
       "      <td>...</td>\n",
       "      <td>...</td>\n",
       "      <td>...</td>\n",
       "      <td>...</td>\n",
       "      <td>...</td>\n",
       "      <td>...</td>\n",
       "      <td>...</td>\n",
       "    </tr>\n",
       "    <tr>\n",
       "      <th>114</th>\n",
       "      <td>69.0</td>\n",
       "      <td>Forever Friends</td>\n",
       "      <td>Cindy</td>\n",
       "      <td>Grace</td>\n",
       "      <td>Damen</td>\n",
       "      <td>13.0</td>\n",
       "      <td>0 days 01:24:59</td>\n",
       "      <td>0:50:27</td>\n",
       "    </tr>\n",
       "    <tr>\n",
       "      <th>115</th>\n",
       "      <td>108.0</td>\n",
       "      <td>Long Distance Lovers</td>\n",
       "      <td>Raymond</td>\n",
       "      <td>Brent</td>\n",
       "      <td>Damen</td>\n",
       "      <td>14.0</td>\n",
       "      <td>0 days 01:27:16</td>\n",
       "      <td>0:52:44</td>\n",
       "    </tr>\n",
       "    <tr>\n",
       "      <th>116</th>\n",
       "      <td>41.0</td>\n",
       "      <td>Loveparade</td>\n",
       "      <td>Johnny</td>\n",
       "      <td>Kenneth</td>\n",
       "      <td>mixed</td>\n",
       "      <td>86.0</td>\n",
       "      <td>0 days 01:36:03</td>\n",
       "      <td>1:01:31</td>\n",
       "    </tr>\n",
       "    <tr>\n",
       "      <th>117</th>\n",
       "      <td>145.0</td>\n",
       "      <td>The snookies</td>\n",
       "      <td>Melissa</td>\n",
       "      <td>Trevor</td>\n",
       "      <td>mixed</td>\n",
       "      <td>87.0</td>\n",
       "      <td>0 days 01:43:53</td>\n",
       "      <td>1:09:21</td>\n",
       "    </tr>\n",
       "    <tr>\n",
       "      <th>DISQ</th>\n",
       "      <td>308.0</td>\n",
       "      <td>???</td>\n",
       "      <td>MCL</td>\n",
       "      <td>NaN</td>\n",
       "      <td>Einzel</td>\n",
       "      <td>NaN</td>\n",
       "      <td>0 days 00:36:47</td>\n",
       "      <td>0:02:15</td>\n",
       "    </tr>\n",
       "  </tbody>\n",
       "</table>\n",
       "<p>118 rows × 8 columns</p>\n",
       "</div>"
      ],
      "text/plain": [
       "         Stnr              Paarname       TN1      TN2      Ak  Platz AK  \\\n",
       "Gesamt                                                                     \n",
       "1        86.0             Je t'aime      Eric   Steven  Herren       1.0   \n",
       "2        36.0         Kaffeeklatsch     Karen  Patrick   mixed       1.0   \n",
       "3        63.0       Stralau Runners  Jonathan     Mark  Herren       2.0   \n",
       "4         5.0            Spuartzgis      Ryan  Timothy   mixed       2.0   \n",
       "5       117.0        Doodle Runners   Anthony  Vanessa   mixed       3.0   \n",
       "...       ...                   ...       ...      ...     ...       ...   \n",
       "114      69.0       Forever Friends     Cindy    Grace   Damen      13.0   \n",
       "115     108.0  Long Distance Lovers   Raymond    Brent   Damen      14.0   \n",
       "116      41.0            Loveparade    Johnny  Kenneth   mixed      86.0   \n",
       "117     145.0          The snookies   Melissa   Trevor   mixed      87.0   \n",
       "DISQ    308.0                   ???       MCL      NaN  Einzel       NaN   \n",
       "\n",
       "               Endzeit Rückstand  \n",
       "Gesamt                            \n",
       "1      0 days 00:34:32       NaN  \n",
       "2      0 days 00:40:58   0:06:26  \n",
       "3      0 days 00:41:26   0:06:54  \n",
       "4      0 days 00:42:21   0:07:49  \n",
       "5      0 days 00:42:31   0:07:59  \n",
       "...                ...       ...  \n",
       "114    0 days 01:24:59   0:50:27  \n",
       "115    0 days 01:27:16   0:52:44  \n",
       "116    0 days 01:36:03   1:01:31  \n",
       "117    0 days 01:43:53   1:09:21  \n",
       "DISQ   0 days 00:36:47   0:02:15  \n",
       "\n",
       "[118 rows x 8 columns]"
      ]
     },
     "execution_count": 116,
     "metadata": {},
     "output_type": "execute_result"
    }
   ],
   "source": [
    "#remove NaN\n",
    "df = df[df[\"Endzeit\"].notnull()]\n",
    "\n",
    "# Convert start time from string to datetime\n",
    "df[\"Endzeit\"] = df[\"Endzeit\"].apply(\n",
    "    lambda time: pd.to_timedelta(time)\n",
    ")\n",
    "df"
   ]
  },
  {
   "cell_type": "code",
   "execution_count": 117,
   "id": "858038cf",
   "metadata": {},
   "outputs": [
    {
     "data": {
      "text/plain": [
       "<Axes: ylabel='Frequency'>"
      ]
     },
     "execution_count": 117,
     "metadata": {},
     "output_type": "execute_result"
    },
    {
     "data": {
      "image/png": "[encoded data removed]",
      "text/plain": [
       "<Figure size 640x480 with 1 Axes>"
      ]
     },
     "metadata": {},
     "output_type": "display_data"
    }
   ],
   "source": [
    "(df[\"Endzeit\"].astype(int) / (60 * 1000000000)).plot.hist(bins=10)"
   ]
  },
  {
   "cell_type": "code",
   "execution_count": 118,
   "id": "3ddbb233",
   "metadata": {},
   "outputs": [
    {
     "data": {
      "text/plain": [
       "<Axes: >"
      ]
     },
     "execution_count": 118,
     "metadata": {},
     "output_type": "execute_result"
    },
    {
     "data": {
      "image/png": "[encoded data removed]",
      "text/plain": [
       "<Figure size 640x480 with 1 Axes>"
      ]
     },
     "metadata": {},
     "output_type": "display_data"
    }
   ],
   "source": [
    "# Replace Values\n",
    "\n",
    "df[\"Ak\"].value_counts().plot.barh()"
   ]
  },
  {
   "cell_type": "code",
   "execution_count": 119,
   "id": "a1f70bad",
   "metadata": {},
   "outputs": [
    {
     "name": "stderr",
     "output_type": "stream",
     "text": [
      "/var/folders/lq/280gf8ld14v161g6ngpdjjnc0000gn/T/ipykernel_48444/3673495846.py:6: SettingWithCopyWarning: \n",
      "A value is trying to be set on a copy of a slice from a DataFrame\n",
      "\n",
      "See the caveats in the documentation: https://pandas.pydata.org/pandas-docs/stable/user_guide/indexing.html#returning-a-view-versus-a-copy\n",
      "  df[\"Ak\"].replace({\n"
     ]
    },
    {
     "data": {
      "text/plain": [
       "<Axes: >"
      ]
     },
     "execution_count": 119,
     "metadata": {},
     "output_type": "execute_result"
    },
    {
     "data": {
      "image/png": "[encoded data removed]",
      "text/plain": [
       "<Figure size 640x480 with 1 Axes>"
      ]
     },
     "metadata": {},
     "output_type": "display_data"
    }
   ],
   "source": [
    "# German categories & not all are capital\n",
    "\n",
    "# Could do this\n",
    "# df[df[\"Ak\"] == \"Herren\"][\"Ak\"] = \"Men\"\n",
    "\n",
    "df[\"Ak\"].replace({\n",
    "    \"Herren\": \"Men\", \n",
    "    \"Damen\": \"Women\",\n",
    "    \"mixed\": \"Mixed\",\n",
    "    \"Einzel\": \"Single\"\n",
    "    }, inplace=True)\n",
    "# Could do another replace on this to replace Damen as well but you can also just add a python dict in the replace to replace multiple together\n",
    "\n",
    "df[\"Ak\"].value_counts().plot.barh()\n",
    "\n"
   ]
  },
  {
   "cell_type": "markdown",
   "id": "70e3fef2",
   "metadata": {},
   "source": [
    "## What to put in the index of a DataFrame?"
   ]
  },
  {
   "cell_type": "code",
   "execution_count": 120,
   "id": "62727c18",
   "metadata": {},
   "outputs": [
    {
     "data": {
      "text/html": [
       "<div>\n",
       "<style scoped>\n",
       "    .dataframe tbody tr th:only-of-type {\n",
       "        vertical-align: middle;\n",
       "    }\n",
       "\n",
       "    .dataframe tbody tr th {\n",
       "        vertical-align: top;\n",
       "    }\n",
       "\n",
       "    .dataframe thead th {\n",
       "        text-align: right;\n",
       "    }\n",
       "</style>\n",
       "<table border=\"1\" class=\"dataframe\">\n",
       "  <thead>\n",
       "    <tr style=\"text-align: right;\">\n",
       "      <th></th>\n",
       "      <th>Stnr</th>\n",
       "      <th>Paarname</th>\n",
       "      <th>TN1</th>\n",
       "      <th>TN2</th>\n",
       "      <th>Ak</th>\n",
       "      <th>Platz AK</th>\n",
       "      <th>Endzeit</th>\n",
       "      <th>Rückstand</th>\n",
       "    </tr>\n",
       "    <tr>\n",
       "      <th>Gesamt</th>\n",
       "      <th></th>\n",
       "      <th></th>\n",
       "      <th></th>\n",
       "      <th></th>\n",
       "      <th></th>\n",
       "      <th></th>\n",
       "      <th></th>\n",
       "      <th></th>\n",
       "    </tr>\n",
       "  </thead>\n",
       "  <tbody>\n",
       "    <tr>\n",
       "      <th>1</th>\n",
       "      <td>86.0</td>\n",
       "      <td>Je t'aime</td>\n",
       "      <td>Eric</td>\n",
       "      <td>Steven</td>\n",
       "      <td>Men</td>\n",
       "      <td>1.0</td>\n",
       "      <td>0 days 00:34:32</td>\n",
       "      <td>NaN</td>\n",
       "    </tr>\n",
       "    <tr>\n",
       "      <th>2</th>\n",
       "      <td>36.0</td>\n",
       "      <td>Kaffeeklatsch</td>\n",
       "      <td>Karen</td>\n",
       "      <td>Patrick</td>\n",
       "      <td>Mixed</td>\n",
       "      <td>1.0</td>\n",
       "      <td>0 days 00:40:58</td>\n",
       "      <td>0:06:26</td>\n",
       "    </tr>\n",
       "    <tr>\n",
       "      <th>3</th>\n",
       "      <td>63.0</td>\n",
       "      <td>Stralau Runners</td>\n",
       "      <td>Jonathan</td>\n",
       "      <td>Mark</td>\n",
       "      <td>Men</td>\n",
       "      <td>2.0</td>\n",
       "      <td>0 days 00:41:26</td>\n",
       "      <td>0:06:54</td>\n",
       "    </tr>\n",
       "    <tr>\n",
       "      <th>4</th>\n",
       "      <td>5.0</td>\n",
       "      <td>Spuartzgis</td>\n",
       "      <td>Ryan</td>\n",
       "      <td>Timothy</td>\n",
       "      <td>Mixed</td>\n",
       "      <td>2.0</td>\n",
       "      <td>0 days 00:42:21</td>\n",
       "      <td>0:07:49</td>\n",
       "    </tr>\n",
       "    <tr>\n",
       "      <th>5</th>\n",
       "      <td>117.0</td>\n",
       "      <td>Doodle Runners</td>\n",
       "      <td>Anthony</td>\n",
       "      <td>Vanessa</td>\n",
       "      <td>Mixed</td>\n",
       "      <td>3.0</td>\n",
       "      <td>0 days 00:42:31</td>\n",
       "      <td>0:07:59</td>\n",
       "    </tr>\n",
       "  </tbody>\n",
       "</table>\n",
       "</div>"
      ],
      "text/plain": [
       "         Stnr         Paarname       TN1      TN2     Ak  Platz AK  \\\n",
       "Gesamt                                                               \n",
       "1        86.0        Je t'aime      Eric   Steven    Men       1.0   \n",
       "2        36.0    Kaffeeklatsch     Karen  Patrick  Mixed       1.0   \n",
       "3        63.0  Stralau Runners  Jonathan     Mark    Men       2.0   \n",
       "4         5.0       Spuartzgis      Ryan  Timothy  Mixed       2.0   \n",
       "5       117.0   Doodle Runners   Anthony  Vanessa  Mixed       3.0   \n",
       "\n",
       "               Endzeit Rückstand  \n",
       "Gesamt                            \n",
       "1      0 days 00:34:32       NaN  \n",
       "2      0 days 00:40:58   0:06:26  \n",
       "3      0 days 00:41:26   0:06:54  \n",
       "4      0 days 00:42:21   0:07:49  \n",
       "5      0 days 00:42:31   0:07:59  "
      ]
     },
     "execution_count": 120,
     "metadata": {},
     "output_type": "execute_result"
    }
   ],
   "source": [
    "df.head()\n",
    "# multi index, replace index, set index"
   ]
  },
  {
   "cell_type": "markdown",
   "id": "deaee1b9",
   "metadata": {},
   "source": [
    "## Methods to fill missing values"
   ]
  },
  {
   "cell_type": "code",
   "execution_count": 121,
   "id": "49dc4896",
   "metadata": {},
   "outputs": [
    {
     "data": {
      "text/plain": [
       "<Axes: >"
      ]
     },
     "execution_count": 121,
     "metadata": {},
     "output_type": "execute_result"
    },
    {
     "data": {
      "image/png": "[encoded data removed]",
      "text/plain": [
       "<Figure size 640x480 with 1 Axes>"
      ]
     },
     "metadata": {},
     "output_type": "display_data"
    }
   ],
   "source": [
    "# Start with this, shows you where all the missing data is\n",
    "\n",
    "df.isna().sum().plot.barh()"
   ]
  },
  {
   "cell_type": "code",
   "execution_count": 122,
   "id": "29958ecc",
   "metadata": {},
   "outputs": [
    {
     "name": "stderr",
     "output_type": "stream",
     "text": [
      "/var/folders/lq/280gf8ld14v161g6ngpdjjnc0000gn/T/ipykernel_48444/3311399941.py:1: SettingWithCopyWarning: \n",
      "A value is trying to be set on a copy of a slice from a DataFrame\n",
      "\n",
      "See the caveats in the documentation: https://pandas.pydata.org/pandas-docs/stable/user_guide/indexing.html#returning-a-view-versus-a-copy\n",
      "  df[\"TN2\"].fillna(\"Unknown\", inplace=True)\n",
      "/var/folders/lq/280gf8ld14v161g6ngpdjjnc0000gn/T/ipykernel_48444/3311399941.py:2: SettingWithCopyWarning: \n",
      "A value is trying to be set on a copy of a slice from a DataFrame\n",
      "\n",
      "See the caveats in the documentation: https://pandas.pydata.org/pandas-docs/stable/user_guide/indexing.html#returning-a-view-versus-a-copy\n",
      "  df[\"Paarname\"].fillna(\"Unknown\", inplace=True)\n",
      "/var/folders/lq/280gf8ld14v161g6ngpdjjnc0000gn/T/ipykernel_48444/3311399941.py:3: SettingWithCopyWarning: \n",
      "A value is trying to be set on a copy of a slice from a DataFrame\n",
      "\n",
      "See the caveats in the documentation: https://pandas.pydata.org/pandas-docs/stable/user_guide/indexing.html#returning-a-view-versus-a-copy\n",
      "  df[\"Rückstand\"].fillna(\"00:00:00\", inplace=True)\n"
     ]
    },
    {
     "data": {
      "text/html": [
       "<div>\n",
       "<style scoped>\n",
       "    .dataframe tbody tr th:only-of-type {\n",
       "        vertical-align: middle;\n",
       "    }\n",
       "\n",
       "    .dataframe tbody tr th {\n",
       "        vertical-align: top;\n",
       "    }\n",
       "\n",
       "    .dataframe thead th {\n",
       "        text-align: right;\n",
       "    }\n",
       "</style>\n",
       "<table border=\"1\" class=\"dataframe\">\n",
       "  <thead>\n",
       "    <tr style=\"text-align: right;\">\n",
       "      <th></th>\n",
       "      <th>Stnr</th>\n",
       "      <th>Paarname</th>\n",
       "      <th>TN1</th>\n",
       "      <th>TN2</th>\n",
       "      <th>Ak</th>\n",
       "      <th>Platz AK</th>\n",
       "      <th>Endzeit</th>\n",
       "      <th>Rückstand</th>\n",
       "    </tr>\n",
       "    <tr>\n",
       "      <th>Gesamt</th>\n",
       "      <th></th>\n",
       "      <th></th>\n",
       "      <th></th>\n",
       "      <th></th>\n",
       "      <th></th>\n",
       "      <th></th>\n",
       "      <th></th>\n",
       "      <th></th>\n",
       "    </tr>\n",
       "  </thead>\n",
       "  <tbody>\n",
       "    <tr>\n",
       "      <th>1</th>\n",
       "      <td>86.0</td>\n",
       "      <td>Je t'aime</td>\n",
       "      <td>Eric</td>\n",
       "      <td>Steven</td>\n",
       "      <td>Men</td>\n",
       "      <td>1.0</td>\n",
       "      <td>0 days 00:34:32</td>\n",
       "      <td>00:00:00</td>\n",
       "    </tr>\n",
       "    <tr>\n",
       "      <th>2</th>\n",
       "      <td>36.0</td>\n",
       "      <td>Kaffeeklatsch</td>\n",
       "      <td>Karen</td>\n",
       "      <td>Patrick</td>\n",
       "      <td>Mixed</td>\n",
       "      <td>1.0</td>\n",
       "      <td>0 days 00:40:58</td>\n",
       "      <td>0:06:26</td>\n",
       "    </tr>\n",
       "    <tr>\n",
       "      <th>3</th>\n",
       "      <td>63.0</td>\n",
       "      <td>Stralau Runners</td>\n",
       "      <td>Jonathan</td>\n",
       "      <td>Mark</td>\n",
       "      <td>Men</td>\n",
       "      <td>2.0</td>\n",
       "      <td>0 days 00:41:26</td>\n",
       "      <td>0:06:54</td>\n",
       "    </tr>\n",
       "    <tr>\n",
       "      <th>4</th>\n",
       "      <td>5.0</td>\n",
       "      <td>Spuartzgis</td>\n",
       "      <td>Ryan</td>\n",
       "      <td>Timothy</td>\n",
       "      <td>Mixed</td>\n",
       "      <td>2.0</td>\n",
       "      <td>0 days 00:42:21</td>\n",
       "      <td>0:07:49</td>\n",
       "    </tr>\n",
       "    <tr>\n",
       "      <th>5</th>\n",
       "      <td>117.0</td>\n",
       "      <td>Doodle Runners</td>\n",
       "      <td>Anthony</td>\n",
       "      <td>Vanessa</td>\n",
       "      <td>Mixed</td>\n",
       "      <td>3.0</td>\n",
       "      <td>0 days 00:42:31</td>\n",
       "      <td>0:07:59</td>\n",
       "    </tr>\n",
       "  </tbody>\n",
       "</table>\n",
       "</div>"
      ],
      "text/plain": [
       "         Stnr         Paarname       TN1      TN2     Ak  Platz AK  \\\n",
       "Gesamt                                                               \n",
       "1        86.0        Je t'aime      Eric   Steven    Men       1.0   \n",
       "2        36.0    Kaffeeklatsch     Karen  Patrick  Mixed       1.0   \n",
       "3        63.0  Stralau Runners  Jonathan     Mark    Men       2.0   \n",
       "4         5.0       Spuartzgis      Ryan  Timothy  Mixed       2.0   \n",
       "5       117.0   Doodle Runners   Anthony  Vanessa  Mixed       3.0   \n",
       "\n",
       "               Endzeit Rückstand  \n",
       "Gesamt                            \n",
       "1      0 days 00:34:32  00:00:00  \n",
       "2      0 days 00:40:58   0:06:26  \n",
       "3      0 days 00:41:26   0:06:54  \n",
       "4      0 days 00:42:21   0:07:49  \n",
       "5      0 days 00:42:31   0:07:59  "
      ]
     },
     "execution_count": 122,
     "metadata": {},
     "output_type": "execute_result"
    }
   ],
   "source": [
    "df[\"TN2\"].fillna(\"Unknown\", inplace=True)\n",
    "df[\"Paarname\"].fillna(\"Unknown\", inplace=True)\n",
    "df[\"Rückstand\"].fillna(\"00:00:00\", inplace=True)\n",
    "df.head()"
   ]
  },
  {
   "cell_type": "code",
   "execution_count": 123,
   "id": "84c03ea0",
   "metadata": {},
   "outputs": [
    {
     "name": "stderr",
     "output_type": "stream",
     "text": [
      "/var/folders/lq/280gf8ld14v161g6ngpdjjnc0000gn/T/ipykernel_48444/4149049747.py:2: SettingWithCopyWarning: \n",
      "A value is trying to be set on a copy of a slice from a DataFrame.\n",
      "Try using .loc[row_indexer,col_indexer] = value instead\n",
      "\n",
      "See the caveats in the documentation: https://pandas.pydata.org/pandas-docs/stable/user_guide/indexing.html#returning-a-view-versus-a-copy\n",
      "  df[\"Mins\"] = df[\"Endzeit\"].astype(int) / (60 * 1000000000)\n"
     ]
    },
    {
     "data": {
      "text/html": [
       "<div>\n",
       "<style scoped>\n",
       "    .dataframe tbody tr th:only-of-type {\n",
       "        vertical-align: middle;\n",
       "    }\n",
       "\n",
       "    .dataframe tbody tr th {\n",
       "        vertical-align: top;\n",
       "    }\n",
       "\n",
       "    .dataframe thead th {\n",
       "        text-align: right;\n",
       "    }\n",
       "</style>\n",
       "<table border=\"1\" class=\"dataframe\">\n",
       "  <thead>\n",
       "    <tr style=\"text-align: right;\">\n",
       "      <th></th>\n",
       "      <th>Stnr</th>\n",
       "      <th>Paarname</th>\n",
       "      <th>TN1</th>\n",
       "      <th>TN2</th>\n",
       "      <th>Ak</th>\n",
       "      <th>Platz AK</th>\n",
       "      <th>Endzeit</th>\n",
       "      <th>Rückstand</th>\n",
       "      <th>Mins</th>\n",
       "    </tr>\n",
       "    <tr>\n",
       "      <th>Gesamt</th>\n",
       "      <th></th>\n",
       "      <th></th>\n",
       "      <th></th>\n",
       "      <th></th>\n",
       "      <th></th>\n",
       "      <th></th>\n",
       "      <th></th>\n",
       "      <th></th>\n",
       "      <th></th>\n",
       "    </tr>\n",
       "  </thead>\n",
       "  <tbody>\n",
       "    <tr>\n",
       "      <th>1</th>\n",
       "      <td>86.0</td>\n",
       "      <td>Je t'aime</td>\n",
       "      <td>Eric</td>\n",
       "      <td>Steven</td>\n",
       "      <td>Men</td>\n",
       "      <td>1.0</td>\n",
       "      <td>0 days 00:34:32</td>\n",
       "      <td>00:00:00</td>\n",
       "      <td>NaN</td>\n",
       "    </tr>\n",
       "    <tr>\n",
       "      <th>2</th>\n",
       "      <td>36.0</td>\n",
       "      <td>Kaffeeklatsch</td>\n",
       "      <td>Karen</td>\n",
       "      <td>Patrick</td>\n",
       "      <td>Mixed</td>\n",
       "      <td>1.0</td>\n",
       "      <td>0 days 00:40:58</td>\n",
       "      <td>0:06:26</td>\n",
       "      <td>40.966667</td>\n",
       "    </tr>\n",
       "    <tr>\n",
       "      <th>3</th>\n",
       "      <td>63.0</td>\n",
       "      <td>Stralau Runners</td>\n",
       "      <td>Jonathan</td>\n",
       "      <td>Mark</td>\n",
       "      <td>Men</td>\n",
       "      <td>2.0</td>\n",
       "      <td>0 days 00:41:26</td>\n",
       "      <td>0:06:54</td>\n",
       "      <td>NaN</td>\n",
       "    </tr>\n",
       "    <tr>\n",
       "      <th>4</th>\n",
       "      <td>5.0</td>\n",
       "      <td>Spuartzgis</td>\n",
       "      <td>Ryan</td>\n",
       "      <td>Timothy</td>\n",
       "      <td>Mixed</td>\n",
       "      <td>2.0</td>\n",
       "      <td>0 days 00:42:21</td>\n",
       "      <td>0:07:49</td>\n",
       "      <td>42.350000</td>\n",
       "    </tr>\n",
       "    <tr>\n",
       "      <th>5</th>\n",
       "      <td>117.0</td>\n",
       "      <td>Doodle Runners</td>\n",
       "      <td>Anthony</td>\n",
       "      <td>Vanessa</td>\n",
       "      <td>Mixed</td>\n",
       "      <td>3.0</td>\n",
       "      <td>0 days 00:42:31</td>\n",
       "      <td>0:07:59</td>\n",
       "      <td>NaN</td>\n",
       "    </tr>\n",
       "  </tbody>\n",
       "</table>\n",
       "</div>"
      ],
      "text/plain": [
       "         Stnr         Paarname       TN1      TN2     Ak  Platz AK  \\\n",
       "Gesamt                                                               \n",
       "1        86.0        Je t'aime      Eric   Steven    Men       1.0   \n",
       "2        36.0    Kaffeeklatsch     Karen  Patrick  Mixed       1.0   \n",
       "3        63.0  Stralau Runners  Jonathan     Mark    Men       2.0   \n",
       "4         5.0       Spuartzgis      Ryan  Timothy  Mixed       2.0   \n",
       "5       117.0   Doodle Runners   Anthony  Vanessa  Mixed       3.0   \n",
       "\n",
       "               Endzeit Rückstand       Mins  \n",
       "Gesamt                                       \n",
       "1      0 days 00:34:32  00:00:00        NaN  \n",
       "2      0 days 00:40:58   0:06:26  40.966667  \n",
       "3      0 days 00:41:26   0:06:54        NaN  \n",
       "4      0 days 00:42:21   0:07:49  42.350000  \n",
       "5      0 days 00:42:31   0:07:59        NaN  "
      ]
     },
     "execution_count": 123,
     "metadata": {},
     "output_type": "execute_result"
    }
   ],
   "source": [
    "# Problems with filling missing values\n",
    "df[\"Mins\"] = df[\"Endzeit\"].astype(int) / (60 * 1000000000)\n",
    "df.loc[[\"1\", \"3\", \"5\"], \"Mins\"] = np.NaN\n",
    "df.head()"
   ]
  },
  {
   "cell_type": "code",
   "execution_count": 124,
   "id": "bfefb611",
   "metadata": {},
   "outputs": [
    {
     "data": {
      "text/plain": [
       "<Axes: xlabel='Gesamt'>"
      ]
     },
     "execution_count": 124,
     "metadata": {},
     "output_type": "execute_result"
    },
    {
     "data": {
      "image/png": "[encoded data removed]",
      "text/plain": [
       "<Figure size 640x480 with 1 Axes>"
      ]
     },
     "metadata": {},
     "output_type": "display_data"
    }
   ],
   "source": [
    "df[\"Mins\"].plot()"
   ]
  },
  {
   "cell_type": "code",
   "execution_count": 125,
   "id": "c566b840",
   "metadata": {},
   "outputs": [
    {
     "data": {
      "text/plain": [
       "<Axes: xlabel='Gesamt'>"
      ]
     },
     "execution_count": 125,
     "metadata": {},
     "output_type": "execute_result"
    },
    {
     "data": {
      "image/png": "[encoded data removed]",
      "text/plain": [
       "<Figure size 640x480 with 1 Axes>"
      ]
     },
     "metadata": {},
     "output_type": "display_data"
    }
   ],
   "source": [
    "df_zeros = df[\"Mins\"].fillna(0)\n",
    "df_zeros.plot()"
   ]
  },
  {
   "cell_type": "code",
   "execution_count": 126,
   "id": "495234c1",
   "metadata": {},
   "outputs": [
    {
     "data": {
      "text/plain": [
       "<Axes: xlabel='Gesamt'>"
      ]
     },
     "execution_count": 126,
     "metadata": {},
     "output_type": "execute_result"
    },
    {
     "data": {
      "image/png": "[encoded data removed]",
      "text/plain": [
       "<Figure size 640x480 with 1 Axes>"
      ]
     },
     "metadata": {},
     "output_type": "display_data"
    }
   ],
   "source": [
    "# Due to these problems, sometimes it is helpful use the mean value instead\n",
    "# However, if you have to many misisng values, you're skewing the actual data by introducting statistical biases\n",
    "\n",
    "df_means = df[\"Mins\"].fillna(df[\"Mins\"].mean())\n",
    "df_means.plot()"
   ]
  },
  {
   "cell_type": "code",
   "execution_count": 127,
   "id": "4ec39048",
   "metadata": {},
   "outputs": [
    {
     "data": {
      "text/plain": [
       "<Axes: xlabel='Gesamt'>"
      ]
     },
     "execution_count": 127,
     "metadata": {},
     "output_type": "execute_result"
    },
    {
     "data": {
      "image/png": "[encoded data removed]",
      "text/plain": [
       "<Figure size 640x480 with 1 Axes>"
      ]
     },
     "metadata": {},
     "output_type": "display_data"
    }
   ],
   "source": [
    "# Data interpolation: Fill misisng data with near local values\n",
    "df_local = df[\"Mins\"].fillna()"
   ]
  }
 ],
 "metadata": {
  "kernelspec": {
   "display_name": "datasci",
   "language": "python",
   "name": "python3"
  },
  "language_info": {
   "codemirror_mode": {
    "name": "ipython",
    "version": 3
   },
   "file_extension": ".py",
   "mimetype": "text/x-python",
   "name": "python",
   "nbconvert_exporter": "python",
   "pygments_lexer": "ipython3",
   "version": "3.11.1"
  },
  "vscode": {
   "interpreter": {
    "hash": "f655c2771ab7e287da6001ca89e912791fd170f4e8d1dddb67def8f9a4028355"
   }
  }
 },
 "nbformat": 4,
 "nbformat_minor": 5
}
